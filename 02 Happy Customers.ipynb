{
 "cells": [
  {
   "cell_type": "markdown",
   "id": "f08414be-1421-4d8d-81f8-ac78dfddca47",
   "metadata": {},
   "source": [
    "# Happy customers\n",
    "\n",
    "Apziva project #1<br>\n",
    "2023 06 15\n",
    "\n",
    "__Summary:__\n",
    "* From 6 survey questions about product delivery in the fictional company ACME, a subset of only 2 questions could be identified as relevant for overall customer satisfaction:\n",
    "    * \"my order was delivered on time\" \n",
    "    * \"I am satisfied with my courier\"\n",
    "* A test accuracy of 75% was reached.\n",
    "* However, there were only 126 records to work on, a sample size at the very low end for ML projects."
   ]
  },
  {
   "cell_type": "markdown",
   "id": "5f934034-55b2-47a1-a874-f20ef72a6d2b",
   "metadata": {},
   "source": [
    "## TOC: <a class=\"anchor\" id=\"TOC\"></a>\n",
    "* [Task description](#TaskDescription)\n",
    "* [Utilities](#Utilities)\n",
    "* [General settings](#GeneralSetting)\n",
    "* [Data retrieval](#DataManagement)\n",
    "* [EDA](#EDA)\n",
    "    * [Basic data properties](#BasicDataProperties)\n",
    "    * [Distributions](#Distributions)   \n",
    "* [Train / test split](#TrainTestSplit)      \n",
    "* [Models](#Models)   \n",
    "    * [Baseline](#Baseline)   \n",
    "    * [Lasso regression](#LassoRegression) \n",
    "* [Conclusions](#Conclusions)       "
   ]
  },
  {
   "cell_type": "markdown",
   "id": "6bcdedbe-117d-4e26-979d-23d1f645e530",
   "metadata": {},
   "source": [
    "## Task description <a class=\"anchor\" id=\"TaskDescription\"></a>\n",
    "[TOC](#TOC)"
   ]
  },
  {
   "cell_type": "markdown",
   "id": "fe5425b2-c7ed-46d5-96a8-38f369539120",
   "metadata": {},
   "source": [
    "* Background:\n",
    "    * We are one of the fastest growing __startups in the logistics and delivery domain__. We work with several partners and make on-demand delivery to our customers. During the COVID-19 pandemic, we are facing several different challenges and everyday we are trying to address these challenges.\n",
    "    * We thrive on __making our customers happy__. As a growing startup, with a global expansion strategy we know that we need to make our customers happy and the only way to do that is to __measure how happy each customer__ is. If we can __predict what makes our customers happy__ or unhappy, we can then take necessary actions.\n",
    "    * Getting __feedback__ from customers is __not easy__ either, but we do our best to get constant feedback from our customers. This is a crucial function to improve our operations across all levels.\n",
    "    * We recently did a __survey__ to a select customer cohort. You are presented with a subset of this data. We will be using the remaining data as a __private test set__.\n",
    "    \n",
    "* Data Description:\n",
    "    * Y = target attribute (Y) with values indicating 0 (unhappy) and 1 (happy) customers\n",
    "    * X1 = my order was delivered on time\n",
    "    * X2 = contents of my order was as I expected\n",
    "    * X3 = I ordered everything I wanted to order\n",
    "    * X4 = I paid a good price for my order\n",
    "    * X5 = I am satisfied with my courier\n",
    "    * X6 = the app makes ordering easy for me\n",
    "    * Attributes X1 to X6 indicate the responses for each question and have values from 1 to 5 where the smaller number indicates less and the higher number indicates more towards the answer.\n",
    "* Goals:\n",
    "    * __Predict__ if a customer is __happy__ or not __based on the answers__ they give to questions asked.\n",
    "* Success Metrics:\n",
    "    * Reach 73% accuracy score or above, or convince us why your solution is superior. We are definitely interested in every solution and insight you can provide us.\n",
    "    * Try to submit your working solution as soon as possible. The sooner the better.\n",
    "* Bonuses:\n",
    "    * We are very interested in finding which questions/features are more important when predicting a customer’s happiness (__feature importance__). \n",
    "    * Using a feature selection approach show us understand what is the minimal set of attributes/features that would preserve the most information about the problem while increasing predictability of the data we have. \n",
    "    * Is there any __question that we can remove__ in our next survey?    "
   ]
  },
  {
   "cell_type": "markdown",
   "id": "aa6c933a-dff3-4166-b300-d7ec4f2a7a4a",
   "metadata": {},
   "source": [
    "__Decision:__\n",
    " * As the company holds back data serving as a test set, one could opt to use all data for training and validation in real-life project, without keeping any of the given data apart as a test set.\n",
    " * As however a critical accuracy score is given by the project design, I will work with the __classical train-valid-test split__ for this project."
   ]
  },
  {
   "cell_type": "markdown",
   "id": "3d6d5cb2-4e49-45e3-921f-e3b42953faed",
   "metadata": {},
   "source": [
    "## Utilities <a class=\"anchor\" id=\"Utilities\"></a>\n",
    "[TOC](#TOC)"
   ]
  },
  {
   "cell_type": "code",
   "execution_count": 1,
   "id": "f3f2ad6e-a9af-445c-8dc1-61dc3d7fee62",
   "metadata": {
    "tags": []
   },
   "outputs": [],
   "source": [
    "# own libraries\n",
    "import Utilities as u\n",
    "import MachineLearning as ml\n",
    "\n",
    "# activate changes in libraries\n",
    "import importlib\n",
    "importlib.reload(u)\n",
    "importlib.reload(ml)\n",
    "\n",
    "# aliases\n",
    "from Utilities import TypeChecker as t\n",
    "from Utilities import PrintAlias as p"
   ]
  },
  {
   "cell_type": "markdown",
   "id": "6a8ec220-aa93-46fa-86d5-0a2377ff4757",
   "metadata": {},
   "source": [
    "## General settings <a class=\"anchor\" id=\"GeneralSetting\"></a>\n",
    "[TOC](#TOC)"
   ]
  },
  {
   "cell_type": "code",
   "execution_count": 2,
   "id": "50d7b6e4-c79d-4062-9875-2c6610e40303",
   "metadata": {},
   "outputs": [],
   "source": [
    "# constants\n",
    "cfltRandomSeed = 42 # any number\n",
    "\n",
    "cstrSourcePath = \"RawExcelData\"\n",
    "cstrSourceFile = \"ACME-HappinessSurvey2020.csv\"\n",
    "cintTestSize   = 8\n",
    "\n",
    "dstrLookupQuestionTexts ={\n",
    "    \"X1\":\"my order was delivered on time\",\n",
    "    \"X2\":\"contents of my order was as I expected\",\n",
    "    \"X3\":\"I ordered everything I wanted to order\",\n",
    "    \"X4\":\"I paid a good price for my order\",\n",
    "    \"X5\":\"I am satisfied with my courier\",\n",
    "    \"X6\":\"the app makes ordering easy for me\"\n",
    "}\n",
    "\n",
    "lstrFeatures = ['X1', 'X2', 'X3', 'X4', 'X5', 'X6']"
   ]
  },
  {
   "cell_type": "markdown",
   "id": "cd83f9bb-81e5-43ce-a11f-4acdd30773e5",
   "metadata": {},
   "source": [
    "__Remark:__\n",
    "* All questions have the __same direction__, i.e. 1 meaning \"bad\" and 5 meaning \"good\".\n",
    "* Thus, no need to revert the values later, for none of the X variables."
   ]
  },
  {
   "cell_type": "markdown",
   "id": "a99a7bb8-f731-4906-bcfb-c71467665c6f",
   "metadata": {},
   "source": [
    "## Data retrieval <a class=\"anchor\" id=\"DataManagement\"></a>\n",
    "[TOC](#TOC)"
   ]
  },
  {
   "cell_type": "code",
   "execution_count": 3,
   "id": "862725ee-d129-4988-8f14-9f8d04644e33",
   "metadata": {
    "tags": []
   },
   "outputs": [
    {
     "data": {
      "text/html": [
       "<div>\n",
       "<style scoped>\n",
       "    .dataframe tbody tr th:only-of-type {\n",
       "        vertical-align: middle;\n",
       "    }\n",
       "\n",
       "    .dataframe tbody tr th {\n",
       "        vertical-align: top;\n",
       "    }\n",
       "\n",
       "    .dataframe thead th {\n",
       "        text-align: right;\n",
       "    }\n",
       "</style>\n",
       "<table border=\"1\" class=\"dataframe\">\n",
       "  <thead>\n",
       "    <tr style=\"text-align: right;\">\n",
       "      <th></th>\n",
       "      <th>Y</th>\n",
       "      <th>X1</th>\n",
       "      <th>X2</th>\n",
       "      <th>X3</th>\n",
       "      <th>X4</th>\n",
       "      <th>X5</th>\n",
       "      <th>X6</th>\n",
       "    </tr>\n",
       "  </thead>\n",
       "  <tbody>\n",
       "    <tr>\n",
       "      <th>0</th>\n",
       "      <td>0</td>\n",
       "      <td>3</td>\n",
       "      <td>3</td>\n",
       "      <td>3</td>\n",
       "      <td>4</td>\n",
       "      <td>2</td>\n",
       "      <td>4</td>\n",
       "    </tr>\n",
       "    <tr>\n",
       "      <th>1</th>\n",
       "      <td>0</td>\n",
       "      <td>3</td>\n",
       "      <td>2</td>\n",
       "      <td>3</td>\n",
       "      <td>5</td>\n",
       "      <td>4</td>\n",
       "      <td>3</td>\n",
       "    </tr>\n",
       "    <tr>\n",
       "      <th>2</th>\n",
       "      <td>1</td>\n",
       "      <td>5</td>\n",
       "      <td>3</td>\n",
       "      <td>3</td>\n",
       "      <td>3</td>\n",
       "      <td>3</td>\n",
       "      <td>5</td>\n",
       "    </tr>\n",
       "    <tr>\n",
       "      <th>3</th>\n",
       "      <td>0</td>\n",
       "      <td>5</td>\n",
       "      <td>4</td>\n",
       "      <td>3</td>\n",
       "      <td>3</td>\n",
       "      <td>3</td>\n",
       "      <td>5</td>\n",
       "    </tr>\n",
       "    <tr>\n",
       "      <th>4</th>\n",
       "      <td>0</td>\n",
       "      <td>5</td>\n",
       "      <td>4</td>\n",
       "      <td>3</td>\n",
       "      <td>3</td>\n",
       "      <td>3</td>\n",
       "      <td>5</td>\n",
       "    </tr>\n",
       "    <tr>\n",
       "      <th>...</th>\n",
       "      <td>...</td>\n",
       "      <td>...</td>\n",
       "      <td>...</td>\n",
       "      <td>...</td>\n",
       "      <td>...</td>\n",
       "      <td>...</td>\n",
       "      <td>...</td>\n",
       "    </tr>\n",
       "    <tr>\n",
       "      <th>121</th>\n",
       "      <td>1</td>\n",
       "      <td>5</td>\n",
       "      <td>2</td>\n",
       "      <td>3</td>\n",
       "      <td>4</td>\n",
       "      <td>4</td>\n",
       "      <td>3</td>\n",
       "    </tr>\n",
       "    <tr>\n",
       "      <th>122</th>\n",
       "      <td>1</td>\n",
       "      <td>5</td>\n",
       "      <td>2</td>\n",
       "      <td>3</td>\n",
       "      <td>4</td>\n",
       "      <td>2</td>\n",
       "      <td>5</td>\n",
       "    </tr>\n",
       "    <tr>\n",
       "      <th>123</th>\n",
       "      <td>1</td>\n",
       "      <td>5</td>\n",
       "      <td>3</td>\n",
       "      <td>3</td>\n",
       "      <td>4</td>\n",
       "      <td>4</td>\n",
       "      <td>5</td>\n",
       "    </tr>\n",
       "    <tr>\n",
       "      <th>124</th>\n",
       "      <td>0</td>\n",
       "      <td>4</td>\n",
       "      <td>3</td>\n",
       "      <td>3</td>\n",
       "      <td>4</td>\n",
       "      <td>4</td>\n",
       "      <td>5</td>\n",
       "    </tr>\n",
       "    <tr>\n",
       "      <th>125</th>\n",
       "      <td>0</td>\n",
       "      <td>5</td>\n",
       "      <td>3</td>\n",
       "      <td>2</td>\n",
       "      <td>5</td>\n",
       "      <td>5</td>\n",
       "      <td>5</td>\n",
       "    </tr>\n",
       "  </tbody>\n",
       "</table>\n",
       "<p>126 rows × 7 columns</p>\n",
       "</div>"
      ],
      "text/plain": [
       "     Y  X1  X2  X3  X4  X5  X6\n",
       "0    0   3   3   3   4   2   4\n",
       "1    0   3   2   3   5   4   3\n",
       "2    1   5   3   3   3   3   5\n",
       "3    0   5   4   3   3   3   5\n",
       "4    0   5   4   3   3   3   5\n",
       "..  ..  ..  ..  ..  ..  ..  ..\n",
       "121  1   5   2   3   4   4   3\n",
       "122  1   5   2   3   4   2   5\n",
       "123  1   5   3   3   4   4   5\n",
       "124  0   4   3   3   4   4   5\n",
       "125  0   5   3   2   5   5   5\n",
       "\n",
       "[126 rows x 7 columns]"
      ]
     },
     "execution_count": 3,
     "metadata": {},
     "output_type": "execute_result"
    }
   ],
   "source": [
    "import pandas as pd\n",
    "\n",
    "# get raw data\n",
    "dfrRaw = pd.read_csv(f\"{cstrSourcePath}/{cstrSourceFile}\")\n",
    "dfrRaw"
   ]
  },
  {
   "cell_type": "markdown",
   "id": "feaeb374-963a-4864-a70d-21ce089f0790",
   "metadata": {},
   "source": [
    "# EDA <a class=\"anchor\" id=\"EDA\"></a>\n",
    "[TOC](#TOC)"
   ]
  },
  {
   "cell_type": "markdown",
   "id": "eb98caad-9dcb-485f-b641-93915ae09505",
   "metadata": {},
   "source": [
    "## Basic data properties <a class=\"anchor\" id=\"BasicDataProperties\"></a>\n",
    "[TOC](#TOC)"
   ]
  },
  {
   "cell_type": "code",
   "execution_count": 4,
   "id": "ee985de5-c083-4829-9a6c-165a1c9be925",
   "metadata": {},
   "outputs": [
    {
     "data": {
      "text/html": [
       "<div>\n",
       "<style scoped>\n",
       "    .dataframe tbody tr th:only-of-type {\n",
       "        vertical-align: middle;\n",
       "    }\n",
       "\n",
       "    .dataframe tbody tr th {\n",
       "        vertical-align: top;\n",
       "    }\n",
       "\n",
       "    .dataframe thead th {\n",
       "        text-align: right;\n",
       "    }\n",
       "</style>\n",
       "<table border=\"1\" class=\"dataframe\">\n",
       "  <thead>\n",
       "    <tr style=\"text-align: right;\">\n",
       "      <th></th>\n",
       "      <th>Y</th>\n",
       "      <th>X1</th>\n",
       "      <th>X2</th>\n",
       "      <th>X3</th>\n",
       "      <th>X4</th>\n",
       "      <th>X5</th>\n",
       "      <th>X6</th>\n",
       "    </tr>\n",
       "  </thead>\n",
       "  <tbody>\n",
       "    <tr>\n",
       "      <th>count</th>\n",
       "      <td>126.000000</td>\n",
       "      <td>126.000000</td>\n",
       "      <td>126.000000</td>\n",
       "      <td>126.000000</td>\n",
       "      <td>126.000000</td>\n",
       "      <td>126.000000</td>\n",
       "      <td>126.000000</td>\n",
       "    </tr>\n",
       "    <tr>\n",
       "      <th>mean</th>\n",
       "      <td>0.547619</td>\n",
       "      <td>4.333333</td>\n",
       "      <td>2.531746</td>\n",
       "      <td>3.309524</td>\n",
       "      <td>3.746032</td>\n",
       "      <td>3.650794</td>\n",
       "      <td>4.253968</td>\n",
       "    </tr>\n",
       "    <tr>\n",
       "      <th>std</th>\n",
       "      <td>0.499714</td>\n",
       "      <td>0.800000</td>\n",
       "      <td>1.114892</td>\n",
       "      <td>1.023440</td>\n",
       "      <td>0.875776</td>\n",
       "      <td>1.147641</td>\n",
       "      <td>0.809311</td>\n",
       "    </tr>\n",
       "    <tr>\n",
       "      <th>min</th>\n",
       "      <td>0.000000</td>\n",
       "      <td>1.000000</td>\n",
       "      <td>1.000000</td>\n",
       "      <td>1.000000</td>\n",
       "      <td>1.000000</td>\n",
       "      <td>1.000000</td>\n",
       "      <td>1.000000</td>\n",
       "    </tr>\n",
       "    <tr>\n",
       "      <th>25%</th>\n",
       "      <td>0.000000</td>\n",
       "      <td>4.000000</td>\n",
       "      <td>2.000000</td>\n",
       "      <td>3.000000</td>\n",
       "      <td>3.000000</td>\n",
       "      <td>3.000000</td>\n",
       "      <td>4.000000</td>\n",
       "    </tr>\n",
       "    <tr>\n",
       "      <th>50%</th>\n",
       "      <td>1.000000</td>\n",
       "      <td>5.000000</td>\n",
       "      <td>3.000000</td>\n",
       "      <td>3.000000</td>\n",
       "      <td>4.000000</td>\n",
       "      <td>4.000000</td>\n",
       "      <td>4.000000</td>\n",
       "    </tr>\n",
       "    <tr>\n",
       "      <th>75%</th>\n",
       "      <td>1.000000</td>\n",
       "      <td>5.000000</td>\n",
       "      <td>3.000000</td>\n",
       "      <td>4.000000</td>\n",
       "      <td>4.000000</td>\n",
       "      <td>4.000000</td>\n",
       "      <td>5.000000</td>\n",
       "    </tr>\n",
       "    <tr>\n",
       "      <th>max</th>\n",
       "      <td>1.000000</td>\n",
       "      <td>5.000000</td>\n",
       "      <td>5.000000</td>\n",
       "      <td>5.000000</td>\n",
       "      <td>5.000000</td>\n",
       "      <td>5.000000</td>\n",
       "      <td>5.000000</td>\n",
       "    </tr>\n",
       "  </tbody>\n",
       "</table>\n",
       "</div>"
      ],
      "text/plain": [
       "                Y          X1          X2          X3          X4          X5  \\\n",
       "count  126.000000  126.000000  126.000000  126.000000  126.000000  126.000000   \n",
       "mean     0.547619    4.333333    2.531746    3.309524    3.746032    3.650794   \n",
       "std      0.499714    0.800000    1.114892    1.023440    0.875776    1.147641   \n",
       "min      0.000000    1.000000    1.000000    1.000000    1.000000    1.000000   \n",
       "25%      0.000000    4.000000    2.000000    3.000000    3.000000    3.000000   \n",
       "50%      1.000000    5.000000    3.000000    3.000000    4.000000    4.000000   \n",
       "75%      1.000000    5.000000    3.000000    4.000000    4.000000    4.000000   \n",
       "max      1.000000    5.000000    5.000000    5.000000    5.000000    5.000000   \n",
       "\n",
       "               X6  \n",
       "count  126.000000  \n",
       "mean     4.253968  \n",
       "std      0.809311  \n",
       "min      1.000000  \n",
       "25%      4.000000  \n",
       "50%      4.000000  \n",
       "75%      5.000000  \n",
       "max      5.000000  "
      ]
     },
     "metadata": {},
     "output_type": "display_data"
    },
    {
     "name": "stdout",
     "output_type": "stream",
     "text": [
      "<class 'pandas.core.frame.DataFrame'>\n",
      "RangeIndex: 126 entries, 0 to 125\n",
      "Data columns (total 7 columns):\n",
      " #   Column  Non-Null Count  Dtype\n",
      "---  ------  --------------  -----\n",
      " 0   Y       126 non-null    int64\n",
      " 1   X1      126 non-null    int64\n",
      " 2   X2      126 non-null    int64\n",
      " 3   X3      126 non-null    int64\n",
      " 4   X4      126 non-null    int64\n",
      " 5   X5      126 non-null    int64\n",
      " 6   X6      126 non-null    int64\n",
      "dtypes: int64(7)\n",
      "memory usage: 7.0 KB\n"
     ]
    }
   ],
   "source": [
    "u.DisplayDataFrame(dfrRaw.describe())\n",
    "dfrRaw.info()"
   ]
  },
  {
   "cell_type": "markdown",
   "id": "9961df8d-865f-42d1-bfc0-2035a8196414",
   "metadata": {},
   "source": [
    "__Observations:__\n",
    "* No missing values.\n",
    "* All integers.\n",
    "* All features running from 1 to 5.\n",
    "* Target either 0 or 1.\n",
    "* The dataset is very small."
   ]
  },
  {
   "cell_type": "markdown",
   "id": "934d0011-9e02-4a23-a8d8-35466b7228e9",
   "metadata": {},
   "source": [
    "__Decision:__\n",
    "* To get accuracies that can reasonably be compared to the goal of 73% (as given by the project design) I will have to choose as few as __8 records for the test set__. By doing so, accuracies can be multiples of 12.5%, e.g. 62.5%, 75%, 87.5%, 100%. Such a low test size should be regarded as critical (see further below).\n",
    "* The dataset being so small, I can choose the usually more time-consuming __Lasso regression__ over a feature selection/linear regression approach. Lasso will do the feature selection process automatically."
   ]
  },
  {
   "cell_type": "markdown",
   "id": "9f53385b-4d2b-4d18-94fa-927798b7b685",
   "metadata": {},
   "source": [
    "## Distributions <a class=\"anchor\" id=\"Distributions\"></a>\n",
    "[TOC](#TOC)"
   ]
  },
  {
   "cell_type": "code",
   "execution_count": 5,
   "id": "34e3e57c-b3eb-42f2-b40a-08d142885385",
   "metadata": {},
   "outputs": [
    {
     "data": {
      "image/png": "[encoded data removed]",
      "text/plain": [
       "<Figure size 864x122.4 with 7 Axes>"
      ]
     },
     "metadata": {
      "needs_background": "light"
     },
     "output_type": "display_data"
    }
   ],
   "source": [
    "ml.DrawDistributionPlots (dfrRaw, dfrRaw.columns,\n",
    "    intDiagramColumns=len(dfrRaw.columns),\n",
    "    intBins=5\n",
    ")"
   ]
  },
  {
   "cell_type": "markdown",
   "id": "97609a4d-19b6-432b-b551-19e0dcf3fdc3",
   "metadata": {},
   "source": [
    "__Remarks:__\n",
    "* The target classes are fairly balanced.\n",
    "* X1 and X6 are negatively skewed."
   ]
  },
  {
   "cell_type": "markdown",
   "id": "48f75ed0-11b3-487a-be5f-18b628e78713",
   "metadata": {},
   "source": [
    "__Decision:__\n",
    "* It is reasonable to try some transformations."
   ]
  },
  {
   "cell_type": "code",
   "execution_count": 6,
   "id": "b52e1ae8-42c3-4ffc-bfac-8669bbee91b1",
   "metadata": {},
   "outputs": [
    {
     "name": "stdout",
     "output_type": "stream",
     "text": [
      "TRANSFORMATIONS\n",
      "\n",
      "Transformation 'log10', inversion = False:\n"
     ]
    },
    {
     "data": {
      "image/png": "[encoded data removed]",
      "text/plain": [
       "<Figure size 864x122.4 with 6 Axes>"
      ]
     },
     "metadata": {
      "needs_background": "light"
     },
     "output_type": "display_data"
    },
    {
     "name": "stdout",
     "output_type": "stream",
     "text": [
      "Transformation 'square', inversion = False:\n"
     ]
    },
    {
     "data": {
      "image/png": "[encoded data removed]",
      "text/plain": [
       "<Figure size 864x122.4 with 6 Axes>"
      ]
     },
     "metadata": {
      "needs_background": "light"
     },
     "output_type": "display_data"
    },
    {
     "name": "stdout",
     "output_type": "stream",
     "text": [
      "Transformation 'sqrt', inversion = False:\n"
     ]
    },
    {
     "data": {
      "image/png": "[encoded data removed]",
      "text/plain": [
       "<Figure size 864x122.4 with 6 Axes>"
      ]
     },
     "metadata": {
      "needs_background": "light"
     },
     "output_type": "display_data"
    },
    {
     "name": "stdout",
     "output_type": "stream",
     "text": [
      "Transformation 'log10', inversion = True:\n"
     ]
    },
    {
     "data": {
      "image/png": "[encoded data removed]",
      "text/plain": [
       "<Figure size 864x122.4 with 6 Axes>"
      ]
     },
     "metadata": {
      "needs_background": "light"
     },
     "output_type": "display_data"
    },
    {
     "name": "stdout",
     "output_type": "stream",
     "text": [
      "Transformation 'square', inversion = True:\n"
     ]
    },
    {
     "data": {
      "image/png": "[encoded data removed]",
      "text/plain": [
       "<Figure size 864x122.4 with 6 Axes>"
      ]
     },
     "metadata": {
      "needs_background": "light"
     },
     "output_type": "display_data"
    },
    {
     "name": "stdout",
     "output_type": "stream",
     "text": [
      "Transformation 'sqrt', inversion = True:\n"
     ]
    },
    {
     "data": {
      "image/png": "[encoded data removed]",
      "text/plain": [
       "<Figure size 864x122.4 with 6 Axes>"
      ]
     },
     "metadata": {
      "needs_background": "light"
     },
     "output_type": "display_data"
    }
   ],
   "source": [
    "import numpy as np\n",
    "import pandas as pd\n",
    "\n",
    "lstrTransformations = [\"log10\",\"square\",\"sqrt\"]\n",
    "\n",
    "# try different transformations\n",
    "p(\"Transformations\".upper())\n",
    "p()\n",
    "for blnInvert in [False, True]:\n",
    "    for strTransformation in lstrTransformations:\n",
    "        p(f\"Transformation '{strTransformation}', inversion = {blnInvert}:\")\n",
    "        dfrTransformed = dfrRaw.copy()\n",
    "        if blnInvert:\n",
    "            dfrTransformed[lstrFeatures] = 6 - dfrTransformed[lstrFeatures]\n",
    "        dfrTransformed[lstrFeatures] = eval(f\"np.{strTransformation}(dfrTransformed[lstrFeatures])\")\n",
    "        ml.DrawDistributionPlots (dfrTransformed.drop(\"Y\",axis=1), lstrFeatures, intDiagramColumns=len(dfrTransformed.columns))"
   ]
  },
  {
   "cell_type": "markdown",
   "id": "f8a8c9a9-d3cc-45dc-b65e-7526688fe255",
   "metadata": {},
   "source": [
    "__Remarks:__\n",
    "* None of these transformations is convincing.\n",
    "* I will continue with the raw data."
   ]
  },
  {
   "cell_type": "markdown",
   "id": "9de7472c-88f3-46d9-b75c-8ff6fdd30770",
   "metadata": {},
   "source": [
    "# Train / test split <a class=\"anchor\" id=\"TrainTestSplit\"></a>\n",
    "[TOC](#TOC)"
   ]
  },
  {
   "cell_type": "code",
   "execution_count": 7,
   "id": "e3ab5f87-f987-48db-957e-512968d44179",
   "metadata": {},
   "outputs": [
    {
     "name": "stdout",
     "output_type": "stream",
     "text": [
      "Shapes after split:\n"
     ]
    },
    {
     "data": {
      "text/plain": [
       "((118, 6), (8, 6), (118,), (8,))"
      ]
     },
     "execution_count": 7,
     "metadata": {},
     "output_type": "execute_result"
    }
   ],
   "source": [
    "from sklearn.model_selection import train_test_split\n",
    "\n",
    "# feature and target\n",
    "X = dfrRaw.drop(\"Y\", axis=1)\n",
    "y = dfrRaw[\"Y\"]\n",
    "\n",
    "# split\n",
    "X_train, X_test, y_train, y_test = train_test_split(X, y, test_size=cintTestSize, random_state=cfltRandomSeed)\n",
    "p(\"Shapes after split:\")\n",
    "X_train.shape, X_test.shape, y_train.shape, y_test.shape"
   ]
  },
  {
   "cell_type": "code",
   "execution_count": 8,
   "id": "6b940b73-aa0c-4be3-9786-f4b7c8676b94",
   "metadata": {},
   "outputs": [
    {
     "name": "stdout",
     "output_type": "stream",
     "text": [
      "3 ROWS OF VALUES AFTER THE SPLIT\n",
      "\n",
      "Train\n",
      " [[ 0.81984512 -1.42287689  1.63843523  1.44360673  1.18334403  0.9383088 ]\n",
      " [-1.69292693 -1.42287689 -1.29088836  0.28479316 -0.61839268  0.9383088 ]\n",
      " [ 0.81984512  1.28517913 -0.31444717 -0.8740204  -0.61839268  0.9383088 ]]\n",
      "\n",
      "Test\n",
      " [[ 0.81984512 -0.52019155 -0.31444717 -0.8740204  -1.51926104  0.9383088 ]\n",
      " [-0.43654091 -0.52019155  0.66199403  0.28479316  0.28247567 -0.33433992]\n",
      " [-1.69292693  1.28517913  0.66199403  1.44360673 -2.42012939 -1.60698863]]\n"
     ]
    }
   ],
   "source": [
    "from sklearn.preprocessing import StandardScaler\n",
    "objStandardScaler = StandardScaler()\n",
    "X_train = objStandardScaler.fit_transform(X_train)\n",
    "X_test  = objStandardScaler.transform(X_test)\n",
    "cintExamples = 3\n",
    "p(f\"{cintExamples} rows of values after the split\".upper())\n",
    "p(\"\\nTrain\\n\",X_train[:cintExamples])\n",
    "p(\"\\nTest\\n\",X_test[:cintExamples])"
   ]
  },
  {
   "cell_type": "markdown",
   "id": "1f0e09bd-f5a0-4bb1-ac1b-000dfc1d46f2",
   "metadata": {},
   "source": [
    "# Models <a class=\"anchor\" id=\"Models\"></a>\n",
    "[TOC](#TOC)"
   ]
  },
  {
   "cell_type": "markdown",
   "id": "18d04d13-c89b-4cc7-b44e-d57b6e9d11a5",
   "metadata": {},
   "source": [
    "## Baseline <a class=\"anchor\" id=\"Baseline\"></a>\n",
    "[TOC](#TOC)"
   ]
  },
  {
   "cell_type": "code",
   "execution_count": 9,
   "id": "09e32968-1ff2-4780-982f-22117964a1cb",
   "metadata": {},
   "outputs": [
    {
     "name": "stdout",
     "output_type": "stream",
     "text": [
      "Baseline classifier using 'most frequent' strategy:\n",
      "0.375\n"
     ]
    }
   ],
   "source": [
    "from sklearn.dummy import DummyClassifier\n",
    "objDummyClassifier = DummyClassifier(strategy=\"most_frequent\")\n",
    "objDummyClassifier.fit(X_train, y_train)\n",
    "fltAccuracy = objDummyClassifier.score(X_test, y_test)\n",
    "p(\"Baseline classifier using 'most frequent' strategy:\")\n",
    "p(fltAccuracy)"
   ]
  },
  {
   "cell_type": "markdown",
   "id": "65f89f0d-0d9f-4033-8943-854440cb857e",
   "metadata": {},
   "source": [
    "## Lasso regression <a class=\"anchor\" id=\"LassoRegression\"></a>\n",
    "[TOC](#TOC)"
   ]
  },
  {
   "cell_type": "code",
   "execution_count": 10,
   "id": "75605d74-bfe5-47ba-9506-782027609247",
   "metadata": {},
   "outputs": [
    {
     "name": "stdout",
     "output_type": "stream",
     "text": [
      "Best model:            Pipeline(steps=[('lasso',\n",
      "                 LogisticRegression(C=0.1, penalty='l1', random_state=42,\n",
      "                                    solver='liblinear'))])\n",
      "Best accuracy (CV):    0.5608695652173913\n",
      "Test accuracy:         0.75\n",
      "Size of test set:      8\n",
      "Resolution test score: 0.125\n"
     ]
    },
    {
     "data": {
      "text/html": [
       "<div>\n",
       "<style scoped>\n",
       "    .dataframe tbody tr th:only-of-type {\n",
       "        vertical-align: middle;\n",
       "    }\n",
       "\n",
       "    .dataframe tbody tr th {\n",
       "        vertical-align: top;\n",
       "    }\n",
       "\n",
       "    .dataframe thead th {\n",
       "        text-align: right;\n",
       "    }\n",
       "</style>\n",
       "<table border=\"1\" class=\"dataframe\">\n",
       "  <thead>\n",
       "    <tr style=\"text-align: right;\">\n",
       "      <th></th>\n",
       "      <th>Feature</th>\n",
       "      <th>Question</th>\n",
       "      <th>Regression weight</th>\n",
       "    </tr>\n",
       "  </thead>\n",
       "  <tbody>\n",
       "    <tr>\n",
       "      <th>0</th>\n",
       "      <td>X1</td>\n",
       "      <td>my order was delivered on time</td>\n",
       "      <td>0.210919</td>\n",
       "    </tr>\n",
       "    <tr>\n",
       "      <th>1</th>\n",
       "      <td>X2</td>\n",
       "      <td>contents of my order was as I expected</td>\n",
       "      <td>0.000000</td>\n",
       "    </tr>\n",
       "    <tr>\n",
       "      <th>2</th>\n",
       "      <td>X3</td>\n",
       "      <td>I ordered everything I wanted to order</td>\n",
       "      <td>0.000000</td>\n",
       "    </tr>\n",
       "    <tr>\n",
       "      <th>3</th>\n",
       "      <td>X4</td>\n",
       "      <td>I paid a good price for my order</td>\n",
       "      <td>0.000000</td>\n",
       "    </tr>\n",
       "    <tr>\n",
       "      <th>4</th>\n",
       "      <td>X5</td>\n",
       "      <td>I am satisfied with my courier</td>\n",
       "      <td>0.024970</td>\n",
       "    </tr>\n",
       "    <tr>\n",
       "      <th>5</th>\n",
       "      <td>X6</td>\n",
       "      <td>the app makes ordering easy for me</td>\n",
       "      <td>0.000000</td>\n",
       "    </tr>\n",
       "  </tbody>\n",
       "</table>\n",
       "</div>"
      ],
      "text/plain": [
       "  Feature                                Question  Regression weight\n",
       "0      X1          my order was delivered on time           0.210919\n",
       "1      X2  contents of my order was as I expected           0.000000\n",
       "2      X3  I ordered everything I wanted to order           0.000000\n",
       "3      X4        I paid a good price for my order           0.000000\n",
       "4      X5          I am satisfied with my courier           0.024970\n",
       "5      X6      the app makes ordering easy for me           0.000000"
      ]
     },
     "execution_count": 10,
     "metadata": {},
     "output_type": "execute_result"
    }
   ],
   "source": [
    "from sklearn.linear_model import LogisticRegression\n",
    "from sklearn.model_selection import GridSearchCV\n",
    "from sklearn.pipeline import Pipeline\n",
    "\n",
    "# pipeline and hyperparameters\n",
    "pipeline = Pipeline([\n",
    "    ('lasso', LogisticRegression(penalty='l1', solver='liblinear'))\n",
    "])\n",
    "dvarHyperparameters = {\n",
    "    'lasso__random_state': [cfltRandomSeed],\n",
    "    'lasso__C': [0.001,0.01, 0.1, 1,10,100,1000],  # regularization\n",
    "    'lasso__max_iter': [100, 200, 500,1000]\n",
    "}\n",
    "\n",
    "# grid search with cross-validation\n",
    "objGridSearch = GridSearchCV(pipeline, dvarHyperparameters, cv=5)\n",
    "objGridSearch.fit(X_train, y_train)\n",
    "\n",
    "# get and evaluate best model\n",
    "pipBestModel = objGridSearch.best_estimator_\n",
    "fltBestScore = objGridSearch.best_score_\n",
    "fltTestScore = pipBestModel.score(X_test, y_test)\n",
    "a1fltRegressionParameters = pipBestModel.named_steps['lasso'].coef_\n",
    "dfrWeights = {\n",
    "    \"Feature\": dstrLookupQuestionTexts.keys(),\n",
    "    \"Question\": dstrLookupQuestionTexts.values(),\n",
    "    \"Regression weight\": a1fltRegressionParameters.flatten()\n",
    "}\n",
    "\n",
    "# output\n",
    "p(\"Best model:           \", pipBestModel)\n",
    "p(\"Best accuracy (CV):   \", fltBestScore)\n",
    "p(\"Test accuracy:        \", fltTestScore)\n",
    "p(\"Size of test set:     \", cintTestSize)\n",
    "p(\"Resolution test score:\", round(1/cintTestSize,3))\n",
    "pd.DataFrame(dfrWeights)"
   ]
  },
  {
   "cell_type": "markdown",
   "id": "c93161d2-e5c7-41df-851e-3598c5a99ff9",
   "metadata": {},
   "source": [
    "# Conclusions <a class=\"anchor\" id=\"Conclusions\"></a>\n",
    "[TOC](#TOC)"
   ]
  },
  {
   "cell_type": "markdown",
   "id": "df82a7f8-1bdf-4bdd-9794-f9c38fd938b3",
   "metadata": {},
   "source": [
    "* A test accuracy of 0.75 (i.e. 75%) could be reached.\n",
    "    * The test accuracy is clearly higher than the baseline: 0.75 > 0.375.\n",
    "    * The test accuracy is slightly higher than the threshold given in the project design (0.75 > 0.73).\n",
    "* Choosing a test size of only 8 records means: 'squeezing out the data':\n",
    "    * The test score of 0.75 might change with different random state values.\n",
    "    * It is highly recommended that ACME gets more survey data to get to informed decisions.\n",
    "* Lasso automatically delivers feature selection:\n",
    "    * Only the features X1 and X5 get regression weights different from 0.\n",
    "    * Thus, the two questions \"my order was delivered on time\" and \"I am satisfied with my courier\" should be sufficient.\n",
    "    * Reducing the survey to these two questions might also help to get more survey data from the clients."
   ]
  }
 ],
 "metadata": {
  "kernelspec": {
   "display_name": "Python 3 (ipykernel)",
   "language": "python",
   "name": "python3"
  },
  "language_info": {
   "codemirror_mode": {
    "name": "ipython",
    "version": 3
   },
   "file_extension": ".py",
   "mimetype": "text/x-python",
   "name": "python",
   "nbconvert_exporter": "python",
   "pygments_lexer": "ipython3",
   "version": "3.9.10"
  }
 },
 "nbformat": 4,
 "nbformat_minor": 5
}
